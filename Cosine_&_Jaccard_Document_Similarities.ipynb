{
  "nbformat": 4,
  "nbformat_minor": 0,
  "metadata": {
    "colab": {
      "name": "Cosine_&_Jaccard_Document_Similarities.ipynb",
      "provenance": [],
      "collapsed_sections": [],
      "include_colab_link": true
    },
    "kernelspec": {
      "name": "python3",
      "display_name": "Python 3"
    },
    "accelerator": "GPU"
  },
  "cells": [
    {
      "cell_type": "markdown",
      "metadata": {
        "id": "view-in-github",
        "colab_type": "text"
      },
      "source": [
        "<a href=\"https://colab.research.google.com/github/DushyantKhinchi/Cosine_-_Jaccard_Document_Similarities/blob/master/Cosine_%26_Jaccard_Document_Similarities.ipynb\" target=\"_parent\"><img src=\"https://colab.research.google.com/assets/colab-badge.svg\" alt=\"Open In Colab\"/></a>"
      ]
    },
    {
      "cell_type": "code",
      "metadata": {
        "id": "T4VL1IBJdZHw",
        "colab_type": "code",
        "colab": {
          "base_uri": "https://localhost:8080/",
          "height": 121
        },
        "outputId": "3d715f5e-98c6-4588-9a22-9b069c90dd88"
      },
      "source": [
        "#Importing Google Drive to access Dataset\n",
        "from google.colab import drive\n",
        "drive.mount('/content/drive')"
      ],
      "execution_count": null,
      "outputs": [
        {
          "output_type": "stream",
          "text": [
            "Go to this URL in a browser: https://accounts.google.com/o/oauth2/auth?client_id=947318989803-6bn6qk8qdgf4n4g3pfee6491hc0brc4i.apps.googleusercontent.com&redirect_uri=urn%3aietf%3awg%3aoauth%3a2.0%3aoob&response_type=code&scope=email%20https%3a%2f%2fwww.googleapis.com%2fauth%2fdocs.test%20https%3a%2f%2fwww.googleapis.com%2fauth%2fdrive%20https%3a%2f%2fwww.googleapis.com%2fauth%2fdrive.photos.readonly%20https%3a%2f%2fwww.googleapis.com%2fauth%2fpeopleapi.readonly\n",
            "\n",
            "Enter your authorization code:\n",
            "··········\n",
            "Mounted at /content/drive\n"
          ],
          "name": "stdout"
        }
      ]
    },
    {
      "cell_type": "code",
      "metadata": {
        "id": "Jm6swR7wgdlJ",
        "colab_type": "code",
        "colab": {
          "base_uri": "https://localhost:8080/",
          "height": 34
        },
        "outputId": "fd730567-e9cf-4e80-eb03-6a763545dcf5"
      },
      "source": [
        "#Checking if the files are available\n",
        "!ls \"drive/Shared drives/IDS 576/HW1\""
      ],
      "execution_count": null,
      "outputs": [
        {
          "output_type": "stream",
          "text": [
            "ls: cannot access 'drive/Shared drives/IDS 576/HW1': No such file or directory\n"
          ],
          "name": "stdout"
        }
      ]
    },
    {
      "cell_type": "code",
      "metadata": {
        "id": "Ay7NT3rMFqBI",
        "colab_type": "code",
        "colab": {
          "base_uri": "https://localhost:8080/",
          "height": 101
        },
        "outputId": "616b8444-185a-4de9-bd32-2a5c19ee4b9b"
      },
      "source": [
        "#importing dependencies\n",
        "import nltk\n",
        "nltk.download('punkt') # first-time use only\n",
        "nltk.download('stopwords')\n"
      ],
      "execution_count": null,
      "outputs": [
        {
          "output_type": "stream",
          "text": [
            "[nltk_data] Downloading package punkt to /root/nltk_data...\n",
            "[nltk_data]   Package punkt is already up-to-date!\n",
            "[nltk_data] Downloading package stopwords to /root/nltk_data...\n",
            "[nltk_data]   Unzipping corpora/stopwords.zip.\n"
          ],
          "name": "stdout"
        },
        {
          "output_type": "execute_result",
          "data": {
            "text/plain": [
              "True"
            ]
          },
          "metadata": {
            "tags": []
          },
          "execution_count": 11
        }
      ]
    },
    {
      "cell_type": "code",
      "metadata": {
        "id": "omJnI1qveN_P",
        "colab_type": "code",
        "colab": {}
      },
      "source": [
        "#function for creating tokens\n",
        "def tokenize(file_path):\n",
        "  #load data\n",
        "  file = open(file_path, 'rt')\n",
        "  text = file.read()\n",
        "  file.close()\n",
        "  # split into words\n",
        "  tokens = nltk.word_tokenize(text)\n",
        "  return tokens"
      ],
      "execution_count": null,
      "outputs": []
    },
    {
      "cell_type": "code",
      "metadata": {
        "id": "DzHJ81lxhdpM",
        "colab_type": "code",
        "colab": {}
      },
      "source": [
        "#function to remove punctuation\n",
        "def remove_punctuation(tokens):\n",
        "  words = [word for word in tokens if word.isalpha()]\n",
        "  return words"
      ],
      "execution_count": null,
      "outputs": []
    },
    {
      "cell_type": "code",
      "metadata": {
        "id": "t-rPbz6xe_zu",
        "colab_type": "code",
        "colab": {}
      },
      "source": [
        "#change to lower case\n",
        "def lower_case(tokens):\n",
        "  tokens_lc=[w.lower() for w in tokens]\n",
        "  return tokens_lc"
      ],
      "execution_count": null,
      "outputs": []
    },
    {
      "cell_type": "code",
      "metadata": {
        "id": "_qj3rHpLcree",
        "colab_type": "code",
        "colab": {}
      },
      "source": [
        "#remove stopwords\n",
        "from nltk.corpus import stopwords\n",
        "def rm_stopwords(words):\n",
        "  stop_words = set(stopwords.words('english'))\n",
        "  words = [w for w in words if not w in stop_words]\n",
        "  return words"
      ],
      "execution_count": null,
      "outputs": []
    },
    {
      "cell_type": "code",
      "metadata": {
        "id": "NevkcSzCiVPo",
        "colab_type": "code",
        "colab": {}
      },
      "source": [
        "#function for stemming\n",
        "def stem(words):\n",
        "  porter = nltk.PorterStemmer()\n",
        "  stemmed = [porter.stem(word) for word in words]\n",
        "  return stemmed"
      ],
      "execution_count": null,
      "outputs": []
    },
    {
      "cell_type": "code",
      "metadata": {
        "id": "vmQfQheOkZia",
        "colab_type": "code",
        "colab": {}
      },
      "source": [
        "#function to calcuate jaccard similarity\n",
        "def jaccard_sim(str1, str2): \n",
        "    a = set(str1) \n",
        "    b = set(str2)\n",
        "    c = a.intersection(b)\n",
        "    return float(len(c)) / (len(a) + len(b) - len(c))"
      ],
      "execution_count": null,
      "outputs": []
    },
    {
      "cell_type": "code",
      "metadata": {
        "id": "AYwKlE0VhBP8",
        "colab_type": "code",
        "colab": {}
      },
      "source": [
        "#tokenizing\n",
        "tokens_mit = tokenize('drive/Shared drives/Adv Text Homework/HW1/MIT.txt')\n",
        "#removing punctuations \n",
        "words_mit = remove_punctuation(tokens_mit)\n",
        "#converting to lower case\n",
        "words_mit=lower_case(words_mit)\n",
        "#remove stop words\n",
        "words_mit=rm_stopwords(words_mit)\n",
        "#stemming\n",
        "stemmed_words_mit = stem(words_mit)"
      ],
      "execution_count": null,
      "outputs": []
    },
    {
      "cell_type": "code",
      "metadata": {
        "id": "OCf5uRQUhyKT",
        "colab_type": "code",
        "colab": {}
      },
      "source": [
        "tokens_stanford = tokenize('drive/Shared drives/Adv Text Homework/HW1/Stanford.txt')\n",
        "words_stanford = remove_punctuation(tokens_stanford)\n",
        "words_stanford=lower_case(words_stanford)\n",
        "words_stanford=rm_stopwords(words_stanford)\n",
        "stemmed_words_stanford = stem(words_stanford)"
      ],
      "execution_count": null,
      "outputs": []
    },
    {
      "cell_type": "code",
      "metadata": {
        "id": "Yuz6ovZy1i68",
        "colab_type": "code",
        "colab": {}
      },
      "source": [
        "tokens_uic = tokenize('drive/Shared drives/Adv Text Homework/HW1/UIC.txt')\n",
        "words_uic = remove_punctuation(tokens_uic)\n",
        "words_uic=lower_case(words_uic)\n",
        "words_uic=rm_stopwords(words_uic)\n",
        "stemmed_words_uic = stem(words_uic)"
      ],
      "execution_count": null,
      "outputs": []
    },
    {
      "cell_type": "code",
      "metadata": {
        "id": "noJ-XVFA10vd",
        "colab_type": "code",
        "colab": {}
      },
      "source": [
        "tokens_tesla = tokenize('drive/Shared drives/Adv Text Homework/HW1/Tesla.txt')\n",
        "words_tesla = remove_punctuation(tokens_tesla)\n",
        "words_tesla=lower_case(words_tesla)\n",
        "words_tesla=rm_stopwords(words_tesla)\n",
        "stemmed_words_tesla = stem(words_tesla)"
      ],
      "execution_count": null,
      "outputs": []
    },
    {
      "cell_type": "code",
      "metadata": {
        "id": "OtCFzDww2DSm",
        "colab_type": "code",
        "colab": {}
      },
      "source": [
        "tokens_uis = tokenize('drive/Shared drives/Adv Text Homework/HW1/UIS.txt')\n",
        "words_uis = remove_punctuation(tokens_uis)\n",
        "words_uis=lower_case(words_uis)\n",
        "words_uis=rm_stopwords(words_uis)\n",
        "stemmed_words_uis = stem(words_uis)"
      ],
      "execution_count": null,
      "outputs": []
    },
    {
      "cell_type": "code",
      "metadata": {
        "id": "KWzSHIh92OxM",
        "colab_type": "code",
        "colab": {}
      },
      "source": [
        "tokens_uiuc = tokenize('drive/Shared drives/Adv Text Homework/HW1/UIUC.txt')\n",
        "words_uiuc = remove_punctuation(tokens_uiuc)\n",
        "words_uiuc=lower_case(words_uiuc)\n",
        "words_uiuc=rm_stopwords(words_uiuc)\n",
        "stemmed_words_uiuc = stem(words_uiuc)"
      ],
      "execution_count": null,
      "outputs": []
    },
    {
      "cell_type": "code",
      "metadata": {
        "id": "a4SOdHwq2aE1",
        "colab_type": "code",
        "colab": {
          "base_uri": "https://localhost:8080/",
          "height": 34
        },
        "outputId": "1f8f45d4-cd1c-42d1-a743-321757d21d64"
      },
      "source": [
        "jaccard_dist_mit = jaccard_sim(stemmed_words_uic,stemmed_words_mit)\n",
        "jaccard_dist_mit"
      ],
      "execution_count": null,
      "outputs": [
        {
          "output_type": "execute_result",
          "data": {
            "text/plain": [
              "0.21244635193133046"
            ]
          },
          "metadata": {
            "tags": []
          },
          "execution_count": 24
        }
      ]
    },
    {
      "cell_type": "code",
      "metadata": {
        "id": "PXB2Lsjt2jH1",
        "colab_type": "code",
        "colab": {
          "base_uri": "https://localhost:8080/",
          "height": 34
        },
        "outputId": "571ab053-a404-4865-9613-954d59de9b52"
      },
      "source": [
        "jaccard_dist_stanford = jaccard_sim(stemmed_words_uic,stemmed_words_stanford)\n",
        "jaccard_dist_stanford"
      ],
      "execution_count": null,
      "outputs": [
        {
          "output_type": "execute_result",
          "data": {
            "text/plain": [
              "0.2611464968152866"
            ]
          },
          "metadata": {
            "tags": []
          },
          "execution_count": 25
        }
      ]
    },
    {
      "cell_type": "code",
      "metadata": {
        "id": "4HV24hEi2qxJ",
        "colab_type": "code",
        "colab": {
          "base_uri": "https://localhost:8080/",
          "height": 34
        },
        "outputId": "8e184d66-c267-4eb5-cc25-8532a5ea25ec"
      },
      "source": [
        "jaccard_dist_tesla = jaccard_sim(stemmed_words_uic,stemmed_words_tesla)\n",
        "jaccard_dist_tesla"
      ],
      "execution_count": null,
      "outputs": [
        {
          "output_type": "execute_result",
          "data": {
            "text/plain": [
              "0.19028062970568105"
            ]
          },
          "metadata": {
            "tags": []
          },
          "execution_count": 26
        }
      ]
    },
    {
      "cell_type": "code",
      "metadata": {
        "id": "MJB6pzja2xq8",
        "colab_type": "code",
        "colab": {
          "base_uri": "https://localhost:8080/",
          "height": 34
        },
        "outputId": "98fb1b9b-2442-4080-851e-7cb28b0cdb09"
      },
      "source": [
        "jaccard_dist_uis = jaccard_sim(stemmed_words_uic,stemmed_words_uis)\n",
        "jaccard_dist_uis"
      ],
      "execution_count": null,
      "outputs": [
        {
          "output_type": "execute_result",
          "data": {
            "text/plain": [
              "0.2372611464968153"
            ]
          },
          "metadata": {
            "tags": []
          },
          "execution_count": 27
        }
      ]
    },
    {
      "cell_type": "code",
      "metadata": {
        "id": "wqAg49Wy27I9",
        "colab_type": "code",
        "colab": {
          "base_uri": "https://localhost:8080/",
          "height": 34
        },
        "outputId": "8df67471-ae26-4fbb-e080-b45b4ffac821"
      },
      "source": [
        "jaccard_dist_uiuc = jaccard_sim(stemmed_words_uic,stemmed_words_uiuc)\n",
        "jaccard_dist_uiuc"
      ],
      "execution_count": null,
      "outputs": [
        {
          "output_type": "execute_result",
          "data": {
            "text/plain": [
              "0.2837528604118993"
            ]
          },
          "metadata": {
            "tags": []
          },
          "execution_count": 28
        }
      ]
    },
    {
      "cell_type": "code",
      "metadata": {
        "id": "ygn-FIpZs5Sm",
        "colab_type": "code",
        "colab": {}
      },
      "source": [
        "# Reading files\n",
        "def file_input(file_path):\n",
        "  file=open(file_path, mode=\"rt\")\n",
        "  text=file.read()\n",
        "  file.close()\n",
        "  return text"
      ],
      "execution_count": null,
      "outputs": []
    },
    {
      "cell_type": "code",
      "metadata": {
        "id": "hJp1iDa9fmKA",
        "colab_type": "code",
        "colab": {}
      },
      "source": [
        "stanford=file_input('drive/Shared drives/Adv Text Homework/HW1/Stanford.txt')\n",
        "uic=file_input('drive/Shared drives/Adv Text Homework/HW1/UIC.txt')\n",
        "mit=file_input('drive/Shared drives/Adv Text Homework/HW1/MIT.txt')\n",
        "tesla=file_input('drive/Shared drives/Adv Text Homework/HW1/Tesla.txt')\n",
        "uis=file_input('drive/Shared drives/Adv Text Homework/HW1/UIS.txt')\n",
        "uiuc=file_input('drive/Shared drives/Adv Text Homework/HW1/UIUC.txt')\n"
      ],
      "execution_count": null,
      "outputs": []
    },
    {
      "cell_type": "code",
      "metadata": {
        "id": "UFQ5mc96ikHr",
        "colab_type": "code",
        "colab": {}
      },
      "source": [
        "documents=[stanford, uic, mit, tesla, uis, uiuc]"
      ],
      "execution_count": null,
      "outputs": []
    },
    {
      "cell_type": "code",
      "metadata": {
        "id": "yhNCXJ2joI1x",
        "colab_type": "code",
        "colab": {
          "base_uri": "https://localhost:8080/",
          "height": 50
        },
        "outputId": "f81c28be-4ebb-406d-da24-c61d99736f42"
      },
      "source": [
        " #normalize by lemmatization\n",
        " import numpy, string\n",
        " nltk.download('wordnet') # first-time use only\n",
        " lemmer = nltk.stem.WordNetLemmatizer()\n",
        " def LemTokens(tokens):\n",
        "     return [lemmer.lemmatize(token) for token in tokens]\n",
        " remove_punct_dict = dict((ord(punct), None) for punct in string.punctuation)\n",
        " def LemNormalize(text):\n",
        "     return LemTokens(nltk.word_tokenize(text.lower().translate(remove_punct_dict)))"
      ],
      "execution_count": null,
      "outputs": [
        {
          "output_type": "stream",
          "text": [
            "[nltk_data] Downloading package wordnet to /root/nltk_data...\n",
            "[nltk_data]   Unzipping corpora/wordnet.zip.\n"
          ],
          "name": "stdout"
        }
      ]
    },
    {
      "cell_type": "code",
      "metadata": {
        "id": "nCQiBGcui4oP",
        "colab_type": "code",
        "colab": {
          "base_uri": "https://localhost:8080/",
          "height": 104
        },
        "outputId": "0e3d54c5-4b8e-49d3-85f7-176266f66f91"
      },
      "source": [
        "#Turn text into tf vectors\n",
        "from sklearn.feature_extraction.text import CountVectorizer\n",
        "LemVectorizer = CountVectorizer(tokenizer=LemNormalize, stop_words='english')\n",
        "LemVectorizer.fit_transform(documents)"
      ],
      "execution_count": null,
      "outputs": [
        {
          "output_type": "stream",
          "text": [
            "/usr/local/lib/python3.6/dist-packages/sklearn/feature_extraction/text.py:385: UserWarning: Your stop_words may be inconsistent with your preprocessing. Tokenizing the stop words generated tokens ['ha', 'le', 'u', 'wa'] not in stop_words.\n",
            "  'stop_words.' % sorted(inconsistent))\n"
          ],
          "name": "stderr"
        },
        {
          "output_type": "execute_result",
          "data": {
            "text/plain": [
              "<6x10423 sparse matrix of type '<class 'numpy.int64'>'\n",
              "\twith 15986 stored elements in Compressed Sparse Row format>"
            ]
          },
          "metadata": {
            "tags": []
          },
          "execution_count": 33
        }
      ]
    },
    {
      "cell_type": "code",
      "metadata": {
        "id": "e2bQCXEyrGz7",
        "colab_type": "code",
        "colab": {
          "base_uri": "https://localhost:8080/",
          "height": 1000
        },
        "outputId": "315ef9c4-6a7a-4f09-9b6d-85405d73f44f"
      },
      "source": [
        "#Corpus Vocabulary\n",
        "LemVectorizer.vocabulary_"
      ],
      "execution_count": null,
      "outputs": [
        {
          "output_type": "execute_result",
          "data": {
            "text/plain": [
              "{'stanford': 8981,\n",
              " 'university': 9763,\n",
              " 'wikipedia': 10181,\n",
              " 'free': 4677,\n",
              " 'encyclopedia': 4162,\n",
              " 'jump': 5745,\n",
              " 'navigationjump': 6801,\n",
              " 'search': 8540,\n",
              " 'redirects': 8009,\n",
              " 'disambiguation': 3818,\n",
              " 'leland': 6023,\n",
              " 'junior': 5750,\n",
              " 'seal': 8537,\n",
              " '2003svg': 627,\n",
              " 'motto': 6691,\n",
              " 'german': 4814,\n",
              " 'die': 3783,\n",
              " 'luft': 6209,\n",
              " 'der': 3735,\n",
              " 'freiheit': 4684,\n",
              " 'weht1': 10124,\n",
              " 'english': 4197,\n",
              " 'wind': 10199,\n",
              " 'freedom': 4678,\n",
              " 'blows1': 2502,\n",
              " 'type': 9679,\n",
              " 'private': 7647,\n",
              " 'research': 8175,\n",
              " 'established': 4253,\n",
              " '189123': 344,\n",
              " 'founder': 4646,\n",
              " 'jane': 5664,\n",
              " 'endowment': 4172,\n",
              " '277': 1114,\n",
              " 'billion': 2446,\n",
              " '20194': 991,\n",
              " 'budget': 2644,\n",
              " '65': 1443,\n",
              " '2018–195': 953,\n",
              " 'president': 7605,\n",
              " 'marc': 6316,\n",
              " 'tessierlavigne': 9403,\n",
              " 'provost': 7767,\n",
              " 'persis': 7358,\n",
              " 'drell': 3947,\n",
              " 'academic': 1694,\n",
              " 'staff': 8967,\n",
              " '22406': 1038,\n",
              " 'administrative': 1783,\n",
              " '125087': 162,\n",
              " 'excluding': 4307,\n",
              " 'shc': 8684,\n",
              " 'student': 9108,\n",
              " '17249': 277,\n",
              " 'fall': 4418,\n",
              " '20198': 995,\n",
              " 'undergraduate': 9727,\n",
              " '6996': 1466,\n",
              " 'postgraduate': 7535,\n",
              " '10253': 69,\n",
              " 'location': 6142,\n",
              " 'california': 2713,\n",
              " 'united': 9749,\n",
              " 'state': 9008,\n",
              " 'coordinate': 3390,\n",
              " '37°25′42″n': 1229,\n",
              " '122°10′08″w9': 153,\n",
              " 'campus': 2750,\n",
              " 'suburban': 9157,\n",
              " '8180': 1539,\n",
              " 'acre': 1743,\n",
              " '128': 171,\n",
              " 'sq': 8952,\n",
              " 'mi': 6511,\n",
              " '331': 1181,\n",
              " 'km26': 5841,\n",
              " 'term': 9386,\n",
              " 'quarter': 7831,\n",
              " 'color': 3150,\n",
              " 'cardinal': 2803,\n",
              " 'white10': 10165,\n",
              " 'nickname': 6891,\n",
              " 'sporting': 8936,\n",
              " 'affiliation': 1819,\n",
              " 'ncaa': 6807,\n",
              " 'division': 3867,\n",
              " 'fbs': 4451,\n",
              " 'pac12': 7216,\n",
              " 'primary': 7629,\n",
              " 'ira': 5596,\n",
              " 'pccsc': 7308,\n",
              " 'mpsf': 6706,\n",
              " 'mascot': 6351,\n",
              " 'none11': 6935,\n",
              " 'website': 10114,\n",
              " 'wwwstanfordedu': 10295,\n",
              " 'wordmark': 10233,\n",
              " '2012svg': 830,\n",
              " 'located': 6141,\n",
              " 'statesstanfordstanford': 9030,\n",
              " 'californiastanfordstanford': 2726,\n",
              " 'officially': 7068,\n",
              " 'university12': 9766,\n",
              " 'known': 5849,\n",
              " 'achievement': 1729,\n",
              " 'wealth': 10101,\n",
              " 'close': 3073,\n",
              " 'proximity': 7768,\n",
              " 'silicon': 8744,\n",
              " 'valley': 9909,\n",
              " 'selectivity': 8578,\n",
              " 'rank': 7893,\n",
              " 'world': 10245,\n",
              " 'universities1314151617': 9756,\n",
              " 'wa': 10050,\n",
              " 'founded': 4645,\n",
              " '1885': 339,\n",
              " 'memory': 6459,\n",
              " 'child': 2987,\n",
              " 'jr': 5734,\n",
              " 'died': 3784,\n",
              " 'typhoid': 9680,\n",
              " 'fever': 4494,\n",
              " 'age': 1830,\n",
              " '15': 232,\n",
              " 'previous': 7617,\n",
              " 'year': 10329,\n",
              " 'u': 9686,\n",
              " 'senator': 8606,\n",
              " 'governor': 4892,\n",
              " 'fortune': 4633,\n",
              " 'railroad': 7870,\n",
              " 'tycoon': 9674,\n",
              " 'school': 8491,\n",
              " 'admitted': 1787,\n",
              " 'october': 7047,\n",
              " '1': 47,\n",
              " 'coeducational': 3103,\n",
              " 'nondenominational': 6934,\n",
              " 'institution': 5499,\n",
              " 'struggled': 9104,\n",
              " 'financially': 4529,\n",
              " 'death': 3628,\n",
              " '1893': 349,\n",
              " 'damaged': 3581,\n",
              " '1906': 371,\n",
              " 'san': 8441,\n",
              " 'francisco': 4661,\n",
              " 'earthquake18': 4007,\n",
              " 'following': 4599,\n",
              " 'war': 10072,\n",
              " 'ii': 5324,\n",
              " 'frederick': 4676,\n",
              " 'terman': 9387,\n",
              " 'supported': 9211,\n",
              " 'faculty': 4396,\n",
              " 'graduate': 4902,\n",
              " 'entrepreneurialism': 4222,\n",
              " 'build': 2649,\n",
              " 'selfsufficient': 8588,\n",
              " 'local': 6138,\n",
              " 'industry': 5440,\n",
              " 'later': 5946,\n",
              " 'valley19': 9910,\n",
              " 'fundraising': 4727,\n",
              " 'country': 3442,\n",
              " 'raise': 7872,\n",
              " 'dollar': 3896,\n",
              " 'year20': 10337,\n",
              " 'organized': 7158,\n",
              " 'traditional': 9575,\n",
              " 'consisting': 3314,\n",
              " '40': 1255,\n",
              " 'department': 3717,\n",
              " 'level': 6044,\n",
              " 'professional': 7682,\n",
              " 'focus': 4590,\n",
              " 'program': 7692,\n",
              " 'law': 5969,\n",
              " 'medicine': 6438,\n",
              " 'education': 4050,\n",
              " 'business': 2674,\n",
              " 'compete': 3204,\n",
              " '36': 1211,\n",
              " 'varsity': 9931,\n",
              " 'sport': 8935,\n",
              " 'conference': 3279,\n",
              " 'ha': 4992,\n",
              " 'gained': 4744,\n",
              " '126': 165,\n",
              " 'team': 9332,\n",
              " 'championships21': 2920,\n",
              " 'won': 10223,\n",
              " 'nacda': 6763,\n",
              " 'director': 3810,\n",
              " 'cup': 3534,\n",
              " '24': 1060,\n",
              " 'consecutive': 3301,\n",
              " 'beginning': 2374,\n",
              " '1994–199522': 561,\n",
              " 'addition': 1771,\n",
              " 'alumnus': 1942,\n",
              " '270': 1109,\n",
              " 'olympic': 7088,\n",
              " 'medal': 6426,\n",
              " 'including': 5406,\n",
              " '139': 207,\n",
              " 'gold': 4865,\n",
              " 'medals23': 6429,\n",
              " 'december': 3637,\n",
              " '2019': 955,\n",
              " '83': 1544,\n",
              " 'nobel': 6918,\n",
              " 'laureate': 5960,\n",
              " '27': 1108,\n",
              " 'turing': 9653,\n",
              " 'award': 2263,\n",
              " 'laureatesnote': 5962,\n",
              " '8': 1524,\n",
              " 'field': 4502,\n",
              " 'medalist': 6428,\n",
              " 'affiliated': 1818,\n",
              " 'staff44': 8969,\n",
              " 'particularly': 7273,\n",
              " 'noted': 6974,\n",
              " 'entrepreneurship': 4223,\n",
              " 'successful': 9163,\n",
              " 'attracting': 2208,\n",
              " 'funding': 4723,\n",
              " 'startups4546474849': 9005,\n",
              " 'numerous': 7005,\n",
              " 'company': 3194,\n",
              " 'combined': 3159,\n",
              " 'produce': 7669,\n",
              " 'trillion': 9622,\n",
              " 'annual': 2006,\n",
              " 'revenue': 8250,\n",
              " 'created': 3474,\n",
              " '54': 1373,\n",
              " 'million': 6553,\n",
              " 'job': 5696,\n",
              " '2011': 783,\n",
              " 'roughly': 8369,\n",
              " 'equivalent': 4239,\n",
              " '10th': 97,\n",
              " 'largest': 5937,\n",
              " 'economy': 4028,\n",
              " '2011505152': 800,\n",
              " 'alma': 1919,\n",
              " 'mater': 6373,\n",
              " 'herbert': 5112,\n",
              " 'hoover': 5196,\n",
              " '30': 1146,\n",
              " 'living': 6125,\n",
              " 'billionaire': 2453,\n",
              " '17': 272,\n",
              " 'astronauts53': 2179,\n",
              " 'leading': 5984,\n",
              " 'producer': 7672,\n",
              " 'member': 6452,\n",
              " 'congress54': 3292,\n",
              " 'content': 3347,\n",
              " 'history': 5158,\n",
              " '2': 585,\n",
              " 'land': 5912,\n",
              " '21': 1013,\n",
              " 'central': 2891,\n",
              " '22': 1030,\n",
              " 'noncentral': 6932,\n",
              " '23': 1048,\n",
              " 'residence': 8197,\n",
              " '25': 1080,\n",
              " 'landmark': 5919,\n",
              " '3': 1145,\n",
              " 'administration': 1782,\n",
              " 'organization': 7152,\n",
              " '31': 1160,\n",
              " 'donation': 3913,\n",
              " '4': 1254,\n",
              " '41': 1270,\n",
              " 'teaching': 9331,\n",
              " 'learning': 5996,\n",
              " '42': 1277,\n",
              " 'center': 2885,\n",
              " 'institute': 5496,\n",
              " '43': 1284,\n",
              " 'library': 6061,\n",
              " 'digital': 3796,\n",
              " 'resource': 8211,\n",
              " '44': 1287,\n",
              " 'art': 2109,\n",
              " '45': 1296,\n",
              " 'reputation': 8164,\n",
              " 'ranking': 7895,\n",
              " '5': 1331,\n",
              " 'discovery': 3835,\n",
              " 'innovation': 5469,\n",
              " '51': 1348,\n",
              " 'natural': 6795,\n",
              " 'science': 8509,\n",
              " '52': 1358,\n",
              " 'computer': 3247,\n",
              " 'applied': 2044,\n",
              " '53': 1368,\n",
              " '6': 1407,\n",
              " 'life': 6076,\n",
              " '61': 1416,\n",
              " 'body': 2511,\n",
              " '62': 1420,\n",
              " 'dormitory': 3923,\n",
              " 'housing': 5231,\n",
              " '63': 1427,\n",
              " 'athletics': 2187,\n",
              " '64': 1436,\n",
              " 'tradition': 9574,\n",
              " 'religious': 8082,\n",
              " '66': 1451,\n",
              " 'greek': 4928,\n",
              " '67': 1453,\n",
              " 'group': 4952,\n",
              " '68': 1456,\n",
              " 'safety': 8415,\n",
              " '681': 1457,\n",
              " 'people': 7327,\n",
              " 'v': 9902,\n",
              " 'turner': 9658,\n",
              " '682': 1458,\n",
              " 'joe': 5700,\n",
              " 'lonsdale': 6166,\n",
              " '7': 1472,\n",
              " '71': 1479,\n",
              " 'scholar': 8482,\n",
              " '9': 1576,\n",
              " 'note': 6973,\n",
              " '10': 48,\n",
              " 'reference': 8019,\n",
              " '11': 102,\n",
              " 'reading': 7939,\n",
              " '12': 141,\n",
              " 'external': 4368,\n",
              " 'link': 6105,\n",
              " '189155': 345,\n",
              " 'main': 6253,\n",
              " 'article': 2113,\n",
              " 'dedicated': 3647,\n",
              " 'opened': 7115,\n",
              " '1891': 343,\n",
              " 'palo': 7234,\n",
              " 'alto': 1930,\n",
              " 'farm': 4433,\n",
              " 'despite': 3749,\n",
              " 'impacted': 5370,\n",
              " 'earthquake': 4006,\n",
              " '1989': 535,\n",
              " 'rebuilt': 7956,\n",
              " 'time': 9489,\n",
              " '1919': 383,\n",
              " 'revolution': 8262,\n",
              " 'peace': 7312,\n",
              " 'started': 9001,\n",
              " 'preserve': 7602,\n",
              " 'artifact': 2115,\n",
              " 'related': 8068,\n",
              " 'medical': 6436,\n",
              " 'completed': 3218,\n",
              " '1959': 445,\n",
              " 'hospital': 5212,\n",
              " '800': 1526,\n",
              " 'bed': 2366,\n",
              " 'slac': 8788,\n",
              " 'national': 6790,\n",
              " 'accelerator': 1698,\n",
              " 'laboratory': 5897,\n",
              " 'originally': 7164,\n",
              " 'named': 6770,\n",
              " 'linear': 6102,\n",
              " '1962': 456,\n",
              " 'performs': 7346,\n",
              " 'particle': 7271,\n",
              " 'physics56': 7409,\n",
              " 'modeled': 6630,\n",
              " 'great': 4923,\n",
              " 'eastern': 4012,\n",
              " 'specifically': 8917,\n",
              " 'cornell': 3402,\n",
              " 'called': 2728,\n",
              " 'west': 10149,\n",
              " 'affiliate': 1817,\n",
              " 'professor': 7683,\n",
              " 'david': 3605,\n",
              " 'starr': 8999,\n",
              " 'jordan': 5720,\n",
              " 'higher': 5127,\n",
              " 'accessible': 1706,\n",
              " 'nonsectarian': 6943,\n",
              " 'open': 7112,\n",
              " 'woman': 10221,\n",
              " 'men': 6461,\n",
              " 'credited': 3481,\n",
              " 'american': 1958,\n",
              " 'adopt': 1789,\n",
              " 'radical': 7865,\n",
              " 'departure': 3722,\n",
              " 'early': 4000,\n",
              " 'adopter': 1791,\n",
              " 'well57': 10137,\n",
              " 'aerial': 1808,\n",
              " 'photograph': 7398,\n",
              " '2008': 696,\n",
              " '8180acre': 1540,\n",
              " 'statesnote': 9028,\n",
              " 'peninsula': 7326,\n",
              " 'northwest': 6960,\n",
              " 'santa': 8450,\n",
              " 'clara': 3040,\n",
              " 'approximately': 2061,\n",
              " '37': 1221,\n",
              " 'mile': 6543,\n",
              " '60': 1408,\n",
              " 'km': 5837,\n",
              " 'southeast': 8883,\n",
              " '20': 586,\n",
              " 'jose': 5722,\n",
              " 'remained': 8090,\n",
              " 'undeveloped60': 9737,\n",
              " 'includes': 5405,\n",
              " 'censusdesignated': 2882,\n",
              " 'place': 7434,\n",
              " 'unincorporated': 9744,\n",
              " 'county': 3445,\n",
              " 'shopping': 8707,\n",
              " 'park': 7258,\n",
              " 'city': 3036,\n",
              " 'limit': 6092,\n",
              " 'mateo': 6372,\n",
              " 'jasper': 5673,\n",
              " 'ridge': 8281,\n",
              " 'biological': 2462,\n",
              " 'menlo': 6465,\n",
              " 'hill': 5143,\n",
              " 'neighborhood': 6829,\n",
              " 'woodside': 10227,\n",
              " 'portola': 7517,\n",
              " 'valley61': 9911,\n",
              " 'adjacent': 1777,\n",
              " 'bounded': 2560,\n",
              " 'el': 4082,\n",
              " 'camino': 2746,\n",
              " 'real': 7942,\n",
              " 'avenue': 2255,\n",
              " 'junipero': 5751,\n",
              " 'serra': 8628,\n",
              " 'boulevard': 2558,\n",
              " 'sand': 8444,\n",
              " 'road': 8310,\n",
              " 'postal': 7532,\n",
              " 'service': 8633,\n",
              " 'assigned': 2158,\n",
              " 'zip': 10385,\n",
              " 'code': 3100,\n",
              " '94305': 1600,\n",
              " 'mail': 6252,\n",
              " '94309': 1601,\n",
              " 'po': 7477,\n",
              " 'box': 2568,\n",
              " 'lie': 6072,\n",
              " 'area': 2080,\n",
              " '650': 1444,\n",
              " 'view': 9982,\n",
              " 'quadrangle': 7824,\n",
              " 'memorial': 6458,\n",
              " 'church': 3018,\n",
              " 'background': 2285,\n",
              " 'grass': 4921,\n",
              " 'covered': 3456,\n",
              " 'oval': 7191,\n",
              " 'currently': 3539,\n",
              " 'operates': 7123,\n",
              " 'intends': 5527,\n",
              " 'operate': 7121,\n",
              " 'various': 9930,\n",
              " 'outside': 7187,\n",
              " 'founding': 4648,\n",
              " 'grant': 4911,\n",
              " '1200acre': 146,\n",
              " '490': 1324,\n",
              " 'reserve': 8191,\n",
              " 'south': 8881,\n",
              " 'owned': 7205,\n",
              " 'used': 9892,\n",
              " 'wildlife': 10189,\n",
              " 'biologist': 2463,\n",
              " 'facility': 4386,\n",
              " 'operated': 7122,\n",
              " 'energy': 4175,\n",
              " 'contains': 3343,\n",
              " 'longest': 6163,\n",
              " '32': 1169,\n",
              " '426': 1281,\n",
              " '172': 276,\n",
              " 'land62': 5913,\n",
              " 'golf': 4872,\n",
              " 'course': 3446,\n",
              " 'seasonal': 8543,\n",
              " 'lake': 5904,\n",
              " 'lagunita': 5902,\n",
              " 'actually': 1759,\n",
              " 'irrigation': 5600,\n",
              " 'reservoir': 8194,\n",
              " 'home': 5184,\n",
              " 'vulnerable': 10045,\n",
              " 'tiger': 9480,\n",
              " 'salamander': 8421,\n",
              " '2012': 802,\n",
              " 'dry': 3971,\n",
              " 'plan': 7438,\n",
              " 'artificially': 2117,\n",
              " 'it63': 5632,\n",
              " 'hopkins': 5200,\n",
              " 'marine': 6332,\n",
              " 'station': 9032,\n",
              " 'pacific': 7218,\n",
              " 'grove': 4956,\n",
              " 'biology': 2464,\n",
              " '1892': 347,\n",
              " 'study': 9133,\n",
              " 'abroad': 1681,\n",
              " 'unlike': 9785,\n",
              " 'typical': 9681,\n",
              " 'facultyinresidence': 4402,\n",
              " 'creating': 3475,\n",
              " 'ministanford64': 6573,\n",
              " 'china': 2991,\n",
              " 'peking': 7318,\n",
              " 'housed': 5229,\n",
              " 'lee': 6004,\n",
              " 'jung': 5749,\n",
              " 'sen': 8602,\n",
              " 'building': 2650,\n",
              " 'small': 8808,\n",
              " 'researcher': 8180,\n",
              " 'collaboration': 3120,\n",
              " 'university6566': 9775,\n",
              " 'development': 3766,\n",
              " 'redwood': 8015,\n",
              " '2005': 635,\n",
              " 'purchased': 7791,\n",
              " '35acre': 1210,\n",
              " '14': 213,\n",
              " 'midpoint': 6535,\n",
              " 'technology': 9352,\n",
              " 'intended': 5526,\n",
              " 'office': 7063,\n",
              " 'delayed': 3672,\n",
              " 'recession6768': 7970,\n",
              " '2015': 872,\n",
              " 'announced': 2000,\n",
              " 'plan69': 7442,\n",
              " 'spring': 8945,\n",
              " 'dish': 3841,\n",
              " 'large': 5931,\n",
              " 'radio': 7866,\n",
              " 'telescope': 9362,\n",
              " 'visible': 10006,\n",
              " 'stanfordowned': 8992,\n",
              " 'foothill': 4606,\n",
              " 'high': 5124,\n",
              " 'point': 7478,\n",
              " 'popular': 7508,\n",
              " 'jogging': 5701,\n",
              " 'walking': 10061,\n",
              " 'trail': 9579,\n",
              " 'live': 6122,\n",
              " 'ghetto': 4822,\n",
              " 'biking': 2443,\n",
              " 'distance': 3851,\n",
              " 'campus70': 2764,\n",
              " 'composed': 3231,\n",
              " 'entirely': 4216,\n",
              " 'similar': 8749,\n",
              " 'condominium': 3272,\n",
              " 'house': 5226,\n",
              " 'bought': 2556,\n",
              " 'sold': 8847,\n",
              " 'rented': 8119,\n",
              " '99year': 1650,\n",
              " 'lease': 5997,\n",
              " 'appreciate': 2050,\n",
              " 'depreciate': 3731,\n",
              " 'rapidly': 7909,\n",
              " 'overall': 7192,\n",
              " 'value': 9915,\n",
              " 'remains': 8092,\n",
              " 'expensive': 4336,\n",
              " 'property': 7731,\n",
              " 'average': 2256,\n",
              " 'price': 7621,\n",
              " 'singlefamily': 8764,\n",
              " 'altocitation': 1932,\n",
              " 'needed': 6823,\n",
              " 'managed': 6283,\n",
              " 'provide': 7760,\n",
              " 'leased': 5998,\n",
              " 'token': 9520,\n",
              " 'rent': 8118,\n",
              " 'unified': 9743,\n",
              " 'district': 3856,\n",
              " 'gunn': 4978,\n",
              " 'school71': 8498,\n",
              " 'oldest': 7083,\n",
              " '1914': 379,\n",
              " 'land72': 5914,\n",
              " 'contemporary': 3346,\n",
              " 'include': 5403,\n",
              " 'quad': 7823,\n",
              " 'cantor': 2781,\n",
              " 'visual': 10015,\n",
              " 'bing': 2456,\n",
              " 'concert': 3261,\n",
              " 'hall': 5012,\n",
              " 'mausoleum': 6387,\n",
              " 'nearby': 6814,\n",
              " 'angel': 1987,\n",
              " 'grief': 4942,\n",
              " 'tower': 9556,\n",
              " 'rodin': 8337,\n",
              " 'sculpture': 8531,\n",
              " 'garden': 4755,\n",
              " 'papua': 7247,\n",
              " 'new': 6860,\n",
              " 'guinea': 4976,\n",
              " 'arizona': 2093,\n",
              " 'cactus': 2698,\n",
              " 'arboretum': 2067,\n",
              " 'green': 4930,\n",
              " 'frank': 4663,\n",
              " 'lloyd': 6128,\n",
              " 'wright': 10269,\n",
              " '1937': 406,\n",
              " 'hanna–honeycomb': 5037,\n",
              " 'lou': 6188,\n",
              " 'henry': 5110,\n",
              " 'listed': 6113,\n",
              " 'historic': 5155,\n",
              " 'register': 8047,\n",
              " 'white': 10164,\n",
              " 'fountain': 4649,\n",
              " 'claw': 3055,\n",
              " 'bookstore': 2531,\n",
              " 'old': 7081,\n",
              " 'union': 9745,\n",
              " 'meet': 6444,\n",
              " 'engage': 4179,\n",
              " 'custom': 3550,\n",
              " 'hopping': 5202,\n",
              " 'installed': 5490,\n",
              " '1964': 462,\n",
              " 'designed': 3744,\n",
              " 'aristides': 2091,\n",
              " 'demetrios': 3686,\n",
              " 'competition': 3208,\n",
              " 'brother': 2629,\n",
              " 'class': 3043,\n",
              " '1949': 425,\n",
              " 'william': 10193,\n",
              " 'n': 6757,\n",
              " 'john': 5703,\n",
              " 'b': 2276,\n",
              " 'graduating': 4904,\n",
              " 'shortly': 8713,\n",
              " '195273747576': 433,\n",
              " 'interior': 5541,\n",
              " 'official': 7066,\n",
              " '285': 1124,\n",
              " 'foot': 4604,\n",
              " '87': 1558,\n",
              " 'm': 6227,\n",
              " 'tallest': 9293,\n",
              " '150': 233,\n",
              " '46': 1301,\n",
              " 'diameter': 3778,\n",
              " 'overlooking': 7196,\n",
              " 'original': 7163,\n",
              " 'golden': 4870,\n",
              " 'spike': 8927,\n",
              " 'display': 3847,\n",
              " 'museum': 6739,\n",
              " 'nonprofit': 6941,\n",
              " 'administered': 1781,\n",
              " 'corporate': 3406,\n",
              " 'trust': 9639,\n",
              " 'governed': 4884,\n",
              " 'privately': 7648,\n",
              " 'appointed': 2047,\n",
              " 'board': 2507,\n",
              " 'trustee': 9641,\n",
              " 'maximum': 6390,\n",
              " 'membership': 6456,\n",
              " '387note': 1236,\n",
              " 'serve': 8629,\n",
              " 'fiveyear': 4559,\n",
              " 'annually79': 2008,\n",
              " 'chosen': 3003,\n",
              " 'current': 3538,\n",
              " 'ballot77': 2300,\n",
              " 'oversee': 7200,\n",
              " 'associated': 2168,\n",
              " 'lucile': 6206,\n",
              " 'packard': 7223,\n",
              " 'childrens': 2989,\n",
              " 'hospital80': 5213,\n",
              " 'appoints': 2049,\n",
              " 'chief': 2985,\n",
              " 'executive': 4310,\n",
              " 'officer': 7065,\n",
              " 'prescribe': 7596,\n",
              " 'duty': 3989,\n",
              " 'manage': 6282,\n",
              " 'financial': 4527,\n",
              " 'affair': 1813,\n",
              " 'appoint': 2046,\n",
              " 'vice': 9972,\n",
              " 'presidents81': 7608,\n",
              " 'dean': 3627,\n",
              " 'seven': 8649,\n",
              " 'report8283': 8146,\n",
              " '13th': 210,\n",
              " 'february': 4457,\n",
              " '2017': 903,\n",
              " '2018': 926,\n",
              " 'schools84': 8502,\n",
              " 'humanity': 5273,\n",
              " 'departments85': 3719,\n",
              " 'engineering': 4188,\n",
              " 'departments86': 3720,\n",
              " 'earth': 4005,\n",
              " 'environmental': 4227,\n",
              " 'departments87': 3721,\n",
              " 'power': 7546,\n",
              " 'authority': 2231,\n",
              " 'vested': 9964,\n",
              " 'council': 3430,\n",
              " 'tenure': 9382,\n",
              " 'nontenure': 6946,\n",
              " 'line': 6101,\n",
              " 'senior': 8608,\n",
              " 'fellow': 4476,\n",
              " 'policy': 7485,\n",
              " 'administrator': 1784,\n",
              " 'matter': 6382,\n",
              " 'handled': 5033,\n",
              " 'senate': 8603,\n",
              " '55': 1377,\n",
              " 'elected': 4090,\n",
              " 'representative': 8157,\n",
              " 'faculty88': 4401,\n",
              " 'assu': 2173,\n",
              " 'government': 4886,\n",
              " 'registered': 8048,\n",
              " 'leadership': 5983,\n",
              " 'consists': 3315,\n",
              " 'ticket': 9472,\n",
              " 'entire': 4215,\n",
              " 'body89': 2514,\n",
              " 'beneficiary': 2393,\n",
              " 'special': 8910,\n",
              " 'clause': 3054,\n",
              " 'constitution': 3322,\n",
              " 'explicitly': 4345,\n",
              " 'exempts': 4313,\n",
              " 'taxation': 9319,\n",
              " 'long': 6160,\n",
              " 'educational': 4053,\n",
              " 'purposes90': 7799,\n",
              " 'management': 6284,\n",
              " 'valued': 9916,\n",
              " 'august': 2221,\n",
              " 'payouts': 7305,\n",
              " '218': 1025,\n",
              " 'expense': 4335,\n",
              " 'fiscal': 4551,\n",
              " 'year4': 10343,\n",
              " 'nacubotiaa': 6765,\n",
              " 'survey': 9225,\n",
              " 'college': 3130,\n",
              " 'canada': 2770,\n",
              " 'harvard': 5059,\n",
              " 'texas': 9409,\n",
              " 'yale': 10322,\n",
              " 'larger': 5933,\n",
              " 'stanford91': 8988,\n",
              " '2006': 644,\n",
              " 'l': 5890,\n",
              " 'hennessy': 5109,\n",
              " 'launched': 5958,\n",
              " 'campaign': 2747,\n",
              " 'challenge': 2911,\n",
              " 'reached': 7932,\n",
              " 'goal': 4861,\n",
              " '2009': 726,\n",
              " 'ahead': 1845,\n",
              " 'continued': 3353,\n",
              " 'duration': 3985,\n",
              " 'concluded': 3263,\n",
              " 'having': 5070,\n",
              " 'raised': 7873,\n",
              " 'total': 9539,\n",
              " '623': 1423,\n",
              " 'breaking': 2595,\n",
              " 'record': 7985,\n",
              " '388': 1237,\n",
              " 'held': 5100,\n",
              " 'yale9293': 10323,\n",
              " '2537': 1093,\n",
              " 'aid': 1849,\n",
              " '233': 1054,\n",
              " 'initiative': 5464,\n",
              " 'seeking': 8570,\n",
              " 'solution': 8855,\n",
              " 'global': 4850,\n",
              " 'problem': 7658,\n",
              " '161': 257,\n",
              " 'educating': 4049,\n",
              " 'leader': 5982,\n",
              " 'improving': 5385,\n",
              " 'k12': 5759,\n",
              " '211': 1016,\n",
              " 'foundation': 4642,\n",
              " 'excellence': 4304,\n",
              " 'aimed': 1854,\n",
              " 'providing': 7764,\n",
              " 'support': 9210,\n",
              " 'fund': 4720,\n",
              " '366': 1217,\n",
              " 'fellowship': 4481,\n",
              " 'endowed': 4171,\n",
              " 'chair': 2907,\n",
              " '38': 1231,\n",
              " 'renovated': 8113,\n",
              " 'enabled': 4154,\n",
              " 'construction': 3325,\n",
              " 'stem': 9047,\n",
              " 'cell': 2876,\n",
              " 'expansion': 4328,\n",
              " 'oncampus': 7094,\n",
              " 'planned': 7446,\n",
              " 'things9495': 9443,\n",
              " '1035': 75,\n",
              " 'walkway': 10062,\n",
              " 'follows': 4600,\n",
              " 'autumn': 2250,\n",
              " 'usually': 9897,\n",
              " 'starting': 9002,\n",
              " 'late': 5944,\n",
              " 'september': 8616,\n",
              " 'ending': 4167,\n",
              " 'june96': 5748,\n",
              " 'fulltime': 4714,\n",
              " 'fouryear': 4654,\n",
              " 'coexistence96': 3106,\n",
              " 'accredited': 1719,\n",
              " 'western': 10151,\n",
              " 'association': 2169,\n",
              " 'colleges97': 3135,\n",
              " 'tuition': 9648,\n",
              " '42690': 1282,\n",
              " '2013–201498': 852,\n",
              " 'admission': 1785,\n",
              " 'process': 7664,\n",
              " 'needblind': 6822,\n",
              " 'citizen': 3032,\n",
              " 'permanent': 7351,\n",
              " 'resident': 8198,\n",
              " 'international': 5546,\n",
              " 'needbased': 6821,\n",
              " 'package': 7222,\n",
              " '3141198': 1164,\n",
              " '2012–13': 831,\n",
              " 'awarded': 2265,\n",
              " '3485': 1196,\n",
              " '4046098': 1261,\n",
              " 'eighty': 4076,\n",
              " 'percent': 7331,\n",
              " 'receive': 7961,\n",
              " 'form': 4625,\n",
              " 'aid98': 1850,\n",
              " 'noloan': 6927,\n",
              " 'policy98': 7489,\n",
              " 'waif': 10052,\n",
              " 'room': 8355,\n",
              " 'family': 4424,\n",
              " 'income': 5407,\n",
              " '65000': 1445,\n",
              " '125000': 161,\n",
              " 'required': 8167,\n",
              " 'pay': 7302,\n",
              " '150000': 234,\n",
              " 'significantly': 8740,\n",
              " 'reduced99': 8013,\n",
              " 'pell': 7319,\n",
              " 'grants98': 4916,\n",
              " 'common': 3180,\n",
              " 'measure': 6418,\n",
              " 'lowincome': 6201,\n",
              " 'inspired': 5485,\n",
              " 'cathedral': 2854,\n",
              " 'salamanca': 8420,\n",
              " 'spain': 8898,\n",
              " '2016': 889,\n",
              " 'oversaw': 7198,\n",
              " 'eighteen': 4075,\n",
              " 'independent': 5421,\n",
              " 'institutes100': 5498,\n",
              " 'stanfordaffiliated': 8989,\n",
              " 'originated': 7165,\n",
              " 'major': 6264,\n",
              " 'public': 7776,\n",
              " 'think': 9444,\n",
              " 'tank': 9299,\n",
              " 'attracts': 2211,\n",
              " 'visiting': 10013,\n",
              " 'hasso': 5064,\n",
              " 'plattner': 7460,\n",
              " 'design': 3740,\n",
              " 'multidisciplinary': 6716,\n",
              " 'cooperation': 3388,\n",
              " 'potsdam': 7542,\n",
              " 'integrates': 5518,\n",
              " 'product': 7674,\n",
              " 'educationcitation': 4054,\n",
              " 'martin': 6347,\n",
              " 'luther': 6219,\n",
              " 'king': 5825,\n",
              " 'grew': 4939,\n",
              " 'paper': 7244,\n",
              " 'project': 7715,\n",
              " 'publish': 7782,\n",
              " 'center101': 2886,\n",
              " 'run': 8391,\n",
              " 's': 8401,\n",
              " 'knight': 5846,\n",
              " 'journalist': 5726,\n",
              " 'ocean': 7041,\n",
              " 'brings': 2612,\n",
              " 'address': 1774,\n",
              " 'facing': 4388,\n",
              " 'ocean102': 7042,\n",
              " 'uc': 9691,\n",
              " 'berkeley': 2403,\n",
              " 'biohub': 2460,\n",
              " '600': 1409,\n",
              " 'commitment': 3175,\n",
              " 'facebook': 4381,\n",
              " 'ceo': 2897,\n",
              " 'mark': 6335,\n",
              " 'zuckerberg': 10392,\n",
              " 'pediatrician': 7315,\n",
              " 'priscilla': 7642,\n",
              " 'chan': 2921,\n",
              " '2014': 853,\n",
              " 'sul': 9180,\n",
              " 'collection': 3124,\n",
              " '93': 1596,\n",
              " 'volume': 10030,\n",
              " 'nearly': 6815,\n",
              " '300000': 1150,\n",
              " 'rare': 7911,\n",
              " 'book': 2530,\n",
              " 'ebooks': 4019,\n",
              " 'audiovisual': 2217,\n",
              " 'material': 6374,\n",
              " '77000': 1510,\n",
              " 'serial': 8625,\n",
              " 'microform': 6519,\n",
              " 'holding': 5173,\n",
              " 'thousand': 9456,\n",
              " 'resources103': 8212,\n",
              " 'su': 9140,\n",
              " 'meeting': 6445,\n",
              " 'space': 8889,\n",
              " 'lathrop': 5950,\n",
              " 'previously': 7618,\n",
              " 'meyer': 6509,\n",
              " 'demolished': 3689,\n",
              " 'hold': 5172,\n",
              " 'studentaccessible': 9110,\n",
              " 'medium': 6443,\n",
              " 'east': 4009,\n",
              " 'asia': 2138,\n",
              " '540000': 1374,\n",
              " 'bronze': 2627,\n",
              " 'statue': 9038,\n",
              " 'auguste': 2222,\n",
              " 'scattered': 8472,\n",
              " 'burgher': 2663,\n",
              " 'calais': 2705,\n",
              " 'gallery': 4747,\n",
              " 'terrace': 9391,\n",
              " 'courtyard': 3453,\n",
              " 'work': 10235,\n",
              " ...}"
            ]
          },
          "metadata": {
            "tags": []
          },
          "execution_count": 42
        }
      ]
    },
    {
      "cell_type": "code",
      "metadata": {
        "id": "g1oP4x6grV1I",
        "colab_type": "code",
        "colab": {
          "base_uri": "https://localhost:8080/",
          "height": 118
        },
        "outputId": "0c8660dd-cd45-439c-ce96-19743c8cde07"
      },
      "source": [
        "#tf Matrix\n",
        "tf_matrix=LemVectorizer.transform(documents).toarray()\n",
        "print(tf_matrix)\n",
        "\n",
        "#tf_matrix.shape"
      ],
      "execution_count": null,
      "outputs": [
        {
          "output_type": "stream",
          "text": [
            "[[1 0 1 ... 0 0 1]\n",
            " [0 0 0 ... 0 0 1]\n",
            " [1 1 0 ... 1 1 1]\n",
            " [1 0 0 ... 0 0 1]\n",
            " [0 0 0 ... 0 0 0]\n",
            " [0 0 0 ... 0 0 1]]\n"
          ],
          "name": "stdout"
        }
      ]
    },
    {
      "cell_type": "code",
      "metadata": {
        "id": "JlQzXM03r_4q",
        "colab_type": "code",
        "colab": {
          "base_uri": "https://localhost:8080/",
          "height": 34
        },
        "outputId": "193c4223-be13-4985-b685-52b694213761"
      },
      "source": [
        "#Calculating idf\n",
        "from sklearn.feature_extraction.text import TfidfTransformer\n",
        "tfidftrans=TfidfTransformer(norm=\"l2\")\n",
        "tfidftrans.fit(tf_matrix)\n",
        "print(tfidftrans.idf_)"
      ],
      "execution_count": null,
      "outputs": [
        {
          "output_type": "stream",
          "text": [
            "[1.55961579 2.25276297 2.25276297 ... 2.25276297 2.25276297 1.15415068]\n"
          ],
          "name": "stdout"
        }
      ]
    },
    {
      "cell_type": "code",
      "metadata": {
        "id": "ybMhTEq1sF-d",
        "colab_type": "code",
        "colab": {
          "base_uri": "https://localhost:8080/",
          "height": 118
        },
        "outputId": "d44b11f0-4b59-44fb-d97e-bb9704f2d344"
      },
      "source": [
        "#tf-idf matrix\n",
        "tfidf_matrix=tfidftrans.transform(tf_matrix)\n",
        "print(tfidf_matrix.toarray())"
      ],
      "execution_count": null,
      "outputs": [
        {
          "output_type": "stream",
          "text": [
            "[[0.00158332 0.         0.002287   ... 0.         0.         0.00117169]\n",
            " [0.         0.         0.         ... 0.         0.         0.00361325]\n",
            " [0.00138049 0.00199403 0.         ... 0.00199403 0.00199403 0.0010216 ]\n",
            " [0.00081547 0.         0.         ... 0.         0.         0.00060346]\n",
            " [0.         0.         0.         ... 0.         0.         0.        ]\n",
            " [0.         0.         0.         ... 0.         0.         0.00217861]]\n"
          ],
          "name": "stdout"
        }
      ]
    },
    {
      "cell_type": "code",
      "metadata": {
        "id": "B11LQt8SwVfw",
        "colab_type": "code",
        "colab": {
          "base_uri": "https://localhost:8080/",
          "height": 118
        },
        "outputId": "4d5767b0-7e5a-4c1f-da5b-55c1c3a75825"
      },
      "source": [
        "#Cosine similarity matrix\n",
        "cosine_sim_matrix=(tfidf_matrix*tfidf_matrix.T).toarray() #multiplying tfidf_matrix with its transpose\n",
        "print(cosine_sim_matrix)\n",
        "\n",
        "#Cosine similarity of the following with UIC\n",
        "#Stanford:0.304\n",
        "#MIT:0.241\n",
        "#Tesla:0.127\n",
        "#UIS:0.478\n",
        "#UIUC:0.681"
      ],
      "execution_count": null,
      "outputs": [
        {
          "output_type": "stream",
          "text": [
            "[[1.         0.30455801 0.17835885 0.11274273 0.22845563 0.36795099]\n",
            " [0.30455801 1.         0.24141374 0.12795028 0.47829801 0.68178035]\n",
            " [0.17835885 0.24141374 1.         0.09601026 0.15360688 0.28944901]\n",
            " [0.11274273 0.12795028 0.09601026 1.         0.06244378 0.16230252]\n",
            " [0.22845563 0.47829801 0.15360688 0.06244378 1.         0.60517772]\n",
            " [0.36795099 0.68178035 0.28944901 0.16230252 0.60517772 1.        ]]\n"
          ],
          "name": "stdout"
        }
      ]
    },
    {
      "cell_type": "code",
      "metadata": {
        "id": "Fxq0LlKpxpub",
        "colab_type": "code",
        "colab": {
          "base_uri": "https://localhost:8080/",
          "height": 272
        },
        "outputId": "141c5043-a206-47fe-c6de-9a08541e47e5"
      },
      "source": [
        "#Alternative method using tfidfVectorizer\n",
        "from sklearn.feature_extraction.text import TfidfVectorizer\n",
        "TfidfVec = TfidfVectorizer(tokenizer=LemNormalize, stop_words='english')\n",
        "def cos_similarity(textlist):\n",
        "    tfidf = TfidfVec.fit_transform(textlist)\n",
        "    return (tfidf * tfidf.T).toarray()\n",
        "cos_similarity(documents)"
      ],
      "execution_count": null,
      "outputs": [
        {
          "output_type": "stream",
          "text": [
            "/usr/local/lib/python3.6/dist-packages/sklearn/feature_extraction/text.py:385: UserWarning: Your stop_words may be inconsistent with your preprocessing. Tokenizing the stop words generated tokens ['ha', 'le', 'u', 'wa'] not in stop_words.\n",
            "  'stop_words.' % sorted(inconsistent))\n"
          ],
          "name": "stderr"
        },
        {
          "output_type": "execute_result",
          "data": {
            "text/plain": [
              "array([[1.        , 0.30455801, 0.17835885, 0.11274273, 0.22845563,\n",
              "        0.36795099],\n",
              "       [0.30455801, 1.        , 0.24141374, 0.12795028, 0.47829801,\n",
              "        0.68178035],\n",
              "       [0.17835885, 0.24141374, 1.        , 0.09601026, 0.15360688,\n",
              "        0.28944901],\n",
              "       [0.11274273, 0.12795028, 0.09601026, 1.        , 0.06244378,\n",
              "        0.16230252],\n",
              "       [0.22845563, 0.47829801, 0.15360688, 0.06244378, 1.        ,\n",
              "        0.60517772],\n",
              "       [0.36795099, 0.68178035, 0.28944901, 0.16230252, 0.60517772,\n",
              "        1.        ]])"
            ]
          },
          "metadata": {
            "tags": []
          },
          "execution_count": 39
        }
      ]
    },
    {
      "cell_type": "code",
      "metadata": {
        "id": "twKMgWHRypya",
        "colab_type": "code",
        "colab": {}
      },
      "source": [
        ""
      ],
      "execution_count": null,
      "outputs": []
    }
  ]
}